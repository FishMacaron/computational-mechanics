{
 "cells": [
  {
   "cell_type": "markdown",
   "id": "826b99cc",
   "metadata": {},
   "source": [
    "# Extra Material: Direct stiffness method for Finite Element analysis (FEA)\n",
    "\n",
    "The direct stiffness approach looks at the stiffness of each individual element and adds them to the overall stiffness of the FEA structure. Starting with a single element, show below we have the following relation between forces applied and deformation\n",
    "\n",
    "![Single link element with forces applied to both ends](../images/link_elem.png)\n",
    "\n",
    "$\\mathbf{F}_{el} = \\mathbf{K}_{el}\\mathbf{u}$\n",
    "\n",
    "where \n",
    "\n",
    "$\\mathbf{F}_{el}=\\left[\\begin{array}{c}\n",
    "        F_{1x}\\\\\n",
    "        F_{1y}\\\\\n",
    "        F_{2x}\\\\\n",
    "        F_{2y}\\end{array}\\right]$\n",
    "\n",
    "$\\mathbf{u}=\\left[\\begin{array}{c}\n",
    "        u_{1x}\\\\\n",
    "        u_{1y}\\\\\n",
    "        u_{2x}\\\\\n",
    "        u_{2y}\\end{array}\\right]$, \n",
    "        \n",
    "and \n",
    "\n",
    "$\\mathbf{K}_{el}=\\frac{EA}{l}\\left[\\begin{array}{cccc}\n",
    "        \\cos^2\\theta & \\cos\\theta\\sin\\theta & -\\cos^2\\theta & -\\cos\\theta\\sin\\theta\\\\\n",
    "        \\cos\\theta\\sin\\theta & \\sin^2\\theta & -\\cos\\theta\\sin\\theta & -\\sin^2\\theta &\\\\\n",
    "        -\\cos^2\\theta & -\\cos\\theta\\sin\\theta & \\cos^2\\theta & \\cos\\theta\\sin\\theta\\\\\n",
    "        -\\cos\\theta\\sin\\theta & -\\sin^2\\theta & \\cos\\theta\\sin\\theta & \\sin^2\\theta &\\\\\n",
    "        \\end{array}\\right]$."
   ]
  },
  {
   "cell_type": "markdown",
   "id": "66c36e67",
   "metadata": {},
   "source": [
    "For a linear-elastic, small deformation FEA, we assume that the angle $\\theta$ remains constant before/after deformation. So our stiffness matrix, $\\mathbf{K}_{el}$ is constant once the geometry of the simulation is initialized. So, for a single link element that is deformed by $\\mathbf{u}$, the force that is applied to create that deformation is given by our first equation. \n",
    "\n",
    "Consider a single aluminum bar $(E=70~GPa)$, with cross-section of $1~mm^2$, and length of 1 meter. If it is initially at an angle of $45^{o}$ pinned at one end and stretched 2 mm to along the x-direction, we have the following deformation and stiffness, \n",
    "\n",
    "$\\mathbf{u}=\\left[\\begin{array}{c}\n",
    "        0\\\\\n",
    "        0\\\\\n",
    "        2\\\\\n",
    "        0\\end{array}\\right]~mm$, \n",
    "        \n",
    "$\\mathbf{K}_{el}=70\\frac{N}{mm}\\left[\\begin{array}{cccc}\n",
    "        1/2 & 1/2 & -1/2 & -1/2\\\\\n",
    "        1/2 & 1/2 & -1/2 & -1/2 &\\\\\n",
    "        -1/2 & -1/2 & 1/2 & 1/2\\\\\n",
    "        -1/2 & -1/2 & 1/2 & 1/2 &\\\\\n",
    "        \\end{array}\\right]$."
   ]
  },
  {
   "cell_type": "code",
   "execution_count": 1,
   "id": "91ac00be",
   "metadata": {},
   "outputs": [],
   "source": [
    "import numpy as np\n",
    "import matplotlib.pyplot as plt\n",
    "from matplotlib import rcParams\n",
    "rcParams['font.family'] = 'sans'\n",
    "rcParams['font.size'] = 16\n",
    "rcParams['lines.linewidth'] = 3"
   ]
  },
  {
   "cell_type": "code",
   "execution_count": 2,
   "id": "e20a2984",
   "metadata": {},
   "outputs": [],
   "source": [
    "u=np.array([0,0,2,0])\n",
    "K=70*np.array([[1/2,1/2,-1/2,-1/2],[1/2,1/2,-1/2,-1/2],[-1/2,-1/2,1/2,1/2],[-1/2,-1/2,1/2,1/2]])"
   ]
  },
  {
   "cell_type": "code",
   "execution_count": 3,
   "id": "978ca7a2",
   "metadata": {},
   "outputs": [
    {
     "name": "stdout",
     "output_type": "stream",
     "text": [
      "[F1x, F1y, F2x, F2y] =  [-70. -70.  70.  70.] N\n"
     ]
    }
   ],
   "source": [
    "F=K@u\n",
    "print('[F1x, F1y, F2x, F2y] = ',F,'N')"
   ]
  },
  {
   "cell_type": "markdown",
   "id": "e9cc0f56",
   "metadata": {},
   "source": [
    "So to stretch the 1-meter by $1~mm^2$ link from its initial configuration to the right by 2 mm, it takes a $\\mathbf{F}=70\\hat{i}+70\\hat{j}$ force and a negative $\\mathbf{F}$ reaction force."
   ]
  },
  {
   "cell_type": "code",
   "execution_count": 4,
   "id": "20fb5b83",
   "metadata": {},
   "outputs": [
    {
     "data": {
      "text/plain": [
       "Text(0.5, 1.0, 'forces and deformation of single Al-bar\\nscale factor = 10')"
      ]
     },
     "execution_count": 4,
     "metadata": {},
     "output_type": "execute_result"
    },
    {
     "data": {
      "image/png": "[encoded data removed]",
      "text/plain": [
       "<Figure size 432x288 with 1 Axes>"
      ]
     },
     "metadata": {
      "filenames": {
       "image/png": "/home/ryan/Documents/UConn/ME3255/computational-mechanics/_build/jupyter_execute/projects/extra-FEA_material_6_1.png"
      },
      "needs_background": "light"
     },
     "output_type": "display_data"
    }
   ],
   "source": [
    "# scale factor\n",
    "s=10\n",
    "x0=np.array([0,1/2**0.5])\n",
    "y0=np.array([0,1/2**0.5])\n",
    "x=x0+u[0::2]*1e-3*s\n",
    "y=y0+u[1::2]*1e-3*s\n",
    "\n",
    "plt.plot(x0,y0,'o-',label='initial position')\n",
    "plt.plot(x,y,'s-',label='final position')\n",
    "plt.quiver(x,y,F[0::2]*s,F[1::2]*s)\n",
    "plt.title('forces and deformation of single Al-bar\\nscale factor = {}'.format(s))"
   ]
  },
  {
   "cell_type": "markdown",
   "id": "cfe50ac5",
   "metadata": {},
   "source": [
    "## Combining multiple elements\n",
    "\n",
    "This method can be extended to multiple, connected bars. We just have to do some extra book-keeping. Let's consider the 3-bar element that we used in [02_Gauss_elimination](../notebooks/02_Gauss_elimination.ipynb).\n",
    "\n",
    "![Triangular truss](../images/truss.png)"
   ]
  },
  {
   "cell_type": "markdown",
   "id": "cd39ef28",
   "metadata": {},
   "source": [
    "We have 3 elements and 3 nodes, so there are 6 degrees of freedom, with 3 constraints. Let's use 1-m aluminum bars with $A=1~mm^2$, but set $\\alpha=\\beta=60^{o}$. \n",
    "\n",
    "Each element still has the stiffness defined above,\n",
    "\n",
    "$\\mathbf{K}_{el}=\\frac{EA}{l}\\left[\\begin{array}{cccc}\n",
    "        \\cos^2\\theta & \\cos\\theta\\sin\\theta & -\\cos^2\\theta & -\\cos\\theta\\sin\\theta\\\\\n",
    "        \\cos\\theta\\sin\\theta & \\sin^2\\theta & -\\cos\\theta\\sin\\theta & -\\sin^2\\theta &\\\\\n",
    "        -\\cos^2\\theta & -\\cos\\theta\\sin\\theta & \\cos^2\\theta & \\cos\\theta\\sin\\theta\\\\\n",
    "        -\\cos\\theta\\sin\\theta & -\\sin^2\\theta & \\cos\\theta\\sin\\theta & \\sin^2\\theta &\\\\\n",
    "        \\end{array}\\right]$, \n",
    "\n",
    "but there are two extra things to consider. The angle $\\theta$ is different for each bar, and the connections are in different locations for each bar. \n",
    "\n",
    "so if the initial geometry, $\\mathbf{r}$, is \n",
    "\n",
    "$\\mathbf{r}=\\left[\\begin{array}{c}\n",
    "        x_1\\\\\n",
    "        y_{1}\\\\\n",
    "        x_{2}\\\\\n",
    "        y_{2}\\\\\n",
    "        x_3 \\\\\n",
    "        y_3\\end{array}\\right]=\n",
    "        \\left[\\begin{array}{c}\n",
    "        0\\\\\n",
    "        0\\\\\n",
    "        0.5 \\\\\n",
    "        \\sqrt{3}/2\\\\\n",
    "        1 \\\\\n",
    "        0\\end{array}\\right]~m$\n",
    "\n",
    "then, the displacement, \n",
    "\n",
    "$\\mathbf{u}=\\left[\\begin{array}{c}\n",
    "        u_{1x}\\\\\n",
    "        u_{1y}\\\\\n",
    "        u_{2x}\\\\\n",
    "        u_{2y}\\\\\n",
    "        u_{3x}\\\\\n",
    "        u_{3y}\\end{array}\\right]=\n",
    "        \\left[\\begin{array}{c}\n",
    "        0\\\\\n",
    "        0\\\\\n",
    "        u_{2x}\\\\\n",
    "        u_{2y}\\\\\n",
    "        u_{3x}\\\\\n",
    "        0\\end{array}\\right]$,"
   ]
  },
  {
   "cell_type": "markdown",
   "id": "6014c901",
   "metadata": {},
   "source": [
    "The forces applied at each joint must equal the sum of the terms \n",
    "\n",
    "$\\mathbf{F} = \\mathbf{K_1 u}+\\mathbf{K_2 u}+\\mathbf{K_3 u}$\n",
    "\n",
    "where, $\\mathbf{K_i}$ is the stiffness of the structure due to element $\\mathbf{i}$, as such\n",
    "\n",
    "$\\mathbf{K}_{1}=\\frac{EA}{l}\\left[\\begin{array}{cccc}\n",
    "        \\cos^2\\theta_1 & \\cos\\theta_1\\sin\\theta_1 & 0 & 0 & -\\cos^2\\theta_1 & -\\cos\\theta_1\\sin\\theta_1 \\\\\n",
    "        \\cos\\theta_1\\sin\\theta_1 & \\sin^2\\theta_1 & 0 & 0 & -\\cos\\theta_1\\sin\\theta_1 & -\\sin^2\\theta_1 \\\\\n",
    "        0 & 0 & 0 & 0 & 0 & 0 \\\\\n",
    "        0 & 0 & 0 & 0 & 0 & 0 \\\\\n",
    "        -\\cos^2\\theta_1 & -\\cos\\theta_1\\sin\\theta_1 & 0 & 0 & \\cos^2\\theta_1 & \\cos\\theta_1\\sin\\theta_1 \\\\\n",
    "        -\\cos\\theta_1\\sin\\theta_1 & -\\sin^2\\theta_1 & 0 & 0 & \\cos\\theta_1\\sin\\theta_1 & \\sin^2\\theta_1 \\\\\n",
    "        \\end{array}\\right]$\n",
    "\n",
    "$\\mathbf{K}_{2}=\\frac{EA}{l}\\left[\\begin{array}{cccc}\n",
    "        \\cos^2\\theta_2 & \\cos\\theta_2\\sin\\theta_2 & -\\cos^2\\theta_2 & -\\cos\\theta_2\\sin\\theta_2 & 0 & 0\\\\\n",
    "        \\cos\\theta_2\\sin\\theta_2 & \\sin^2\\theta_2 & -\\cos\\theta_2\\sin\\theta_2 & -\\sin^2\\theta_2 & 0 & 0\\\\\n",
    "        -\\cos^2\\theta_2 & -\\cos\\theta_2\\sin\\theta_2 & \\cos^2\\theta_2 & \\cos\\theta_2\\sin\\theta_2 & 0 & 0\\\\\n",
    "        -\\cos\\theta_2\\sin\\theta_2 & -\\sin^2\\theta_2 & \\cos\\theta_2\\sin\\theta_2 & \\sin^2\\theta_2  & 0 & 0\\\\\n",
    "        0 & 0 & 0 & 0 & 0 & 0 \\\\\n",
    "        0 & 0 & 0 & 0 & 0 & 0 \n",
    "        \\end{array}\\right]$\n",
    "\n",
    "$\\mathbf{K}_{3}=\\frac{EA}{l}\\left[\\begin{array}{cccc}\n",
    "        0 & 0 & 0 & 0 & 0 & 0 \\\\\n",
    "        0 & 0 & 0 & 0 & 0 & 0 \\\\\n",
    "        0 & 0 &\\cos^2\\theta_3 & \\cos\\theta_3\\sin\\theta_3 & -\\cos^2\\theta_3 & -\\cos\\theta_3\\sin\\theta_3 \\\\\n",
    "        0 & 0 &\\cos\\theta_3\\sin\\theta_3 & \\sin^2\\theta_3 & -\\cos\\theta_3\\sin\\theta_3 & -\\sin^2\\theta_3 \\\\\n",
    "        0 & 0 &-\\cos^2\\theta_3 & -\\cos\\theta_3\\sin\\theta_3 & \\cos^2\\theta_3 & \\cos\\theta_3\\sin\\theta_3 \\\\\n",
    "        0 & 0 &-\\cos\\theta_3\\sin\\theta_3 & -\\sin^2\\theta_3 & \\cos\\theta_3\\sin\\theta_3 & \\sin^2\\theta_3 \\\\\n",
    "        \\end{array}\\right]$"
   ]
  },
  {
   "cell_type": "code",
   "execution_count": 5,
   "id": "764ffc6d",
   "metadata": {},
   "outputs": [
    {
     "name": "stdout",
     "output_type": "stream",
     "text": [
      "[[ 1.  0.  0.  0. -1. -0.]\n",
      " [ 0.  0.  0.  0. -0. -0.]\n",
      " [ 0.  0.  0.  0.  0.  0.]\n",
      " [ 0.  0.  0.  0.  0.  0.]\n",
      " [-1. -0.  0.  0.  1.  0.]\n",
      " [-0. -0.  0.  0.  0.  0.]]\n"
     ]
    }
   ],
   "source": [
    "Ke1 = lambda a: np.array([[np.cos(a)**2,np.cos(a)*np.sin(a)],[np.cos(a)*np.sin(a),np.sin(a)**2]])\n",
    "Ke2 = lambda a: np.array([[-np.cos(a)**2,-np.cos(a)*np.sin(a)],[-np.cos(a)*np.sin(a),-np.sin(a)**2]])\n",
    "\n",
    "K1 = np.zeros((6,6))\n",
    "K2 = np.zeros((6,6))\n",
    "K3 = np.zeros((6,6))\n",
    "\n",
    "K1[0:2,0:2]=Ke1(0)\n",
    "K1[4:6,4:6]=Ke1(0)\n",
    "K1[0:2,4:6]=Ke2(0)\n",
    "K1[4:6,0:2]=Ke2(0)\n",
    "K2[0:4,0:4]=np.block([[Ke1(np.pi/3),Ke2(np.pi/3)],[Ke2(np.pi/3),Ke1(np.pi/3)]])\n",
    "K3[2:6,2:6]=np.block([[Ke1(2*np.pi/3),Ke2(2*np.pi/3)],[Ke2(2*np.pi/3),Ke1(2*np.pi/3)]])\n",
    "print(K1)"
   ]
  },
  {
   "cell_type": "code",
   "execution_count": 6,
   "id": "549b7b1f",
   "metadata": {},
   "outputs": [
    {
     "name": "stdout",
     "output_type": "stream",
     "text": [
      "[ 87.5         30.31088913 -17.5        -30.31088913 -70.\n",
      "   0.        ]\n",
      "[ 30.31088913  52.5        -30.31088913 -52.5          0.\n",
      "   0.        ]\n",
      "[-1.75000000e+01 -3.03108891e+01  3.50000000e+01  1.55431223e-14\n",
      " -1.75000000e+01  3.03108891e+01]\n",
      "[-3.03108891e+01 -5.25000000e+01  1.55431223e-14  1.05000000e+02\n",
      "  3.03108891e+01 -5.25000000e+01]\n",
      "[-70.           0.         -17.5         30.31088913  87.5\n",
      " -30.31088913]\n",
      "[  0.           0.          30.31088913 -52.5        -30.31088913\n",
      "  52.5       ]\n"
     ]
    }
   ],
   "source": [
    "E=70e3\n",
    "A=1\n",
    "l=1e3\n",
    "K = E*A/l*(K1+K2+K3)\n",
    "for k in K:\n",
    "    print(k)"
   ]
  },
  {
   "cell_type": "code",
   "execution_count": 7,
   "id": "888cd293",
   "metadata": {},
   "outputs": [],
   "source": [
    "ufree=np.linalg.solve(K[2:5,2:5],np.ones(3)*70)"
   ]
  },
  {
   "cell_type": "code",
   "execution_count": 8,
   "id": "26066acb",
   "metadata": {},
   "outputs": [
    {
     "data": {
      "text/plain": [
       "4.52921099245176"
      ]
     },
     "execution_count": 8,
     "metadata": {},
     "output_type": "execute_result"
    }
   ],
   "source": [
    "np.linalg.cond(K[2:5,2:5])"
   ]
  },
  {
   "cell_type": "code",
   "execution_count": 9,
   "id": "f2b5a8d4",
   "metadata": {},
   "outputs": [
    {
     "data": {
      "image/png": "[encoded data removed]",
      "text/plain": [
       "<Figure size 432x288 with 1 Axes>"
      ]
     },
     "metadata": {
      "filenames": {
       "image/png": "/home/ryan/Documents/UConn/ME3255/computational-mechanics/_build/jupyter_execute/projects/extra-FEA_material_14_0.png"
      },
      "needs_background": "light"
     },
     "output_type": "display_data"
    }
   ],
   "source": [
    "scale = 10\n",
    "r0=np.array([0,0,0.5,3**0.5/2,1,0])*1000\n",
    "u=np.zeros((6))\n",
    "u[2:5]=ufree\n",
    "ix=range(-2,6,2)\n",
    "iy=range(-1,6,2)\n",
    "F=K@u\n",
    "r=r0+u*scale\n",
    "\n",
    "plt.figure()\n",
    "plt.plot(r0[ix],r0[iy],'s-',label='orignal')\n",
    "plt.quiver(r0[ix],r0[iy],u[ix],u[iy],color=(0,1,1,1),label='displacements')\n",
    "plt.plot(r[ix],r[iy],'o-',label='deformed')\n",
    "plt.quiver(r0[ix],r0[iy],F[ix],F[iy],color=(1,0,0,1),label='applied forces')\n",
    "plt.axis([-100,1200,-100,1000])\n",
    "plt.legend(loc='center left', bbox_to_anchor=(1,0.5));\n",
    "plt.title('original and deformed structure\\nscale = {}x'.format(scale));"
   ]
  },
  {
   "cell_type": "markdown",
   "id": "dfb77ac9",
   "metadata": {},
   "source": [
    "## Project Matrix creation\n",
    "\n",
    "In the project, we have 7 joints _(nodes)_ and 11 bars _(elements)_. That means we have 7 locations where $\\sum\\mathbf{F} = \\mathbf{0}$ and 11 stiffness matrices $(\\mathbf{K_1}...\\mathbf{K_{11}})$. The result is 14 equations with 14 unknowns, but we have some constraints on the system. $u_{1x}=u_{1y}=0$ and $u_{7y}=0.$ Which leaves us with 11 unknowns. There are 14 applied forces $(F_{ix},~F_{iy})$ that make up the vector $\\mathbf{F}.$\n",
    "\n",
    "$\\mathbf{u}=\\left[\\begin{array}{c}\n",
    "        u_{1x}\\\\\n",
    "        u_{1y}\\\\\n",
    "        u_{2x}\\\\\n",
    "        u_{2y}\\\\\n",
    "        u_{3x}\\\\\n",
    "        u_{3y}\\\\\n",
    "        u_{4x}\\\\\n",
    "        u_{4y}\\\\\n",
    "        u_{5x}\\\\\n",
    "        u_{5y}\\\\\n",
    "        u_{6x}\\\\\n",
    "        u_{6y}\\\\\n",
    "        u_{7x}\\\\\n",
    "        u_{7y}\\\\\\end{array}\\right]=\n",
    "        \\left[\\begin{array}{c}\n",
    "        0\\\\\n",
    "        0\\\\\n",
    "        u_{2x}\\\\\n",
    "        u_{2y}\\\\\n",
    "        u_{3x}\\\\\n",
    "        u_{3y}\\\\\n",
    "        u_{4x}\\\\\n",
    "        u_{4y}\\\\\n",
    "        u_{5x}\\\\\n",
    "        u_{5y}\\\\\n",
    "        u_{6x}\\\\\n",
    "        u_{6y}\\\\\n",
    "        u_{7x}\\\\\n",
    "        0\\\\\\end{array}\\right]$, and $\\mathbf{F} = \\mathbf{K_1 u}+...+\\mathbf{K_{11} u}$"
   ]
  },
  {
   "cell_type": "markdown",
   "id": "adfeac1c",
   "metadata": {},
   "source": [
    "## Node and element arrays\n",
    "\n",
    "In FEA, we typically store the node locations and their connections in two arrays called the node array: `nodes` and the element array: `elems`. The array `nodes` stores the node number and its x-y location. The array `elems` stores the node numbers that define each element. Our `nodes` and `elems` are printed below."
   ]
  },
  {
   "cell_type": "code",
   "execution_count": 10,
   "id": "1067813a",
   "metadata": {},
   "outputs": [
    {
     "name": "stdout",
     "output_type": "stream",
     "text": [
      "node array\n",
      "---------------\n",
      "[[  1.           0.           0.        ]\n",
      " [  2.         150.         259.80762114]\n",
      " [  3.         300.           0.        ]\n",
      " [  4.         450.         259.80762114]\n",
      " [  5.         600.           0.        ]\n",
      " [  6.         750.         259.80762114]\n",
      " [  7.         900.           0.        ]]\n",
      "element array\n",
      "---------------\n",
      "[[ 1  1  2]\n",
      " [ 2  2  3]\n",
      " [ 3  1  3]\n",
      " [ 4  2  4]\n",
      " [ 5  3  4]\n",
      " [ 6  3  5]\n",
      " [ 7  4  5]\n",
      " [ 8  4  6]\n",
      " [ 9  5  6]\n",
      " [10  5  7]\n",
      " [11  6  7]]\n"
     ]
    }
   ],
   "source": [
    "l=300 # mm\n",
    "nodes = np.array([[1,0,0],[2,0.5,3**0.5/2],[3,1,0],[4,1.5,3**0.5/2],[5,2,0],[6,2.5,3**0.5/2],[7,3,0]])\n",
    "nodes[:,1:3]*=l\n",
    "elems = np.array([[1,1,2],[2,2,3],[3,1,3],[4,2,4],[5,3,4],[6,3,5],[7,4,5],[8,4,6],[9,5,6],[10,5,7],[11,6,7]])\n",
    "print('node array\\n---------------')\n",
    "print(nodes)\n",
    "print('element array\\n---------------')\n",
    "print(elems)"
   ]
  },
  {
   "cell_type": "markdown",
   "id": "916b9321",
   "metadata": {},
   "source": [
    "We can plot the mesh in different ways, here I have chosen to loop through each triangle in the mesh, $node~1\\rightarrow node~2\\rightarrow node~3 \\rightarrow node~1 \\rightarrow node~2 \\rightarrow node~3 \\rightarrow ...$\n",
    "\n",
    "I create an array where each column is a loop around each triangle in the support structure for the x- and y-coords, `ix` and `iy`, respectively. \n",
    "\n",
    "The vector `r` is the coordinates for the structure, so $\\mathbf{r} = \\mathbf{r}_0+\\mathbf{u}$, where $\\mathbf{r}_0$ is the location of each node without forces applied and $\\mathbf{u}$ is the distance each node moves after a force is applied."
   ]
  },
  {
   "cell_type": "code",
   "execution_count": 11,
   "id": "cf6fba94",
   "metadata": {},
   "outputs": [
    {
     "data": {
      "text/plain": [
       "array([  0.        ,   0.        , 150.        , 259.80762114,\n",
       "       300.        ,   0.        , 450.        , 259.80762114,\n",
       "       600.        ,   0.        , 750.        , 259.80762114,\n",
       "       900.        ,   0.        ])"
      ]
     },
     "execution_count": 11,
     "metadata": {},
     "output_type": "execute_result"
    }
   ],
   "source": [
    "ix = 2*np.block([[np.arange(0,5)],[np.arange(1,6)],[np.arange(2,7)],[np.arange(0,5)]])\n",
    "iy = ix+1\n",
    "\n",
    "r = np.block([n[1:3] for n in nodes])\n",
    "r"
   ]
  },
  {
   "cell_type": "code",
   "execution_count": 12,
   "id": "2eff0f4f",
   "metadata": {},
   "outputs": [
    {
     "data": {
      "image/png": "[encoded data removed]",
      "text/plain": [
       "<Figure size 432x288 with 1 Axes>"
      ]
     },
     "metadata": {
      "filenames": {
       "image/png": "/home/ryan/Documents/UConn/ME3255/computational-mechanics/_build/jupyter_execute/projects/extra-FEA_material_20_0.png"
      },
      "needs_background": "light"
     },
     "output_type": "display_data"
    }
   ],
   "source": [
    "plt.plot(r[ix],r[iy],'-',color='k')\n",
    "plt.plot(r[ix],r[iy],'o',color='b')\n",
    "plt.plot(r[0],r[1],'^',color='r',markersize=20)\n",
    "plt.plot(r[0],r[1],'>',color='k',markersize=20)\n",
    "plt.plot(r[-2],r[-1],'^',color='r',markersize=20)\n",
    "# label the nodes\n",
    "for n in nodes:\n",
    "    if n[2]>0.8*l: offset=0.1\n",
    "    else: offset=-l/5\n",
    "    plt.text(n[1]-l/3,n[2]+offset,'n {}'.format(int(n[0])),color='b')\n",
    "# label the elements\n",
    "for e in elems:\n",
    "    n1=nodes[e[1]-1]\n",
    "    n2=nodes[e[2]-1]\n",
    "    x=np.mean([n2[1],n1[1]])\n",
    "    y=np.mean([n2[2],n1[2]])\n",
    "    # ----------------->need elem labels<-----------------\n",
    "    plt.text(x-l/5,y-l/10,'el {}'.format(int(e[0])),color='r')\n",
    "plt.title('Our truss structure\\neach element is 2 nodes and length L\\ntriangle markers are constraints')\n",
    "plt.xlabel('x (mm)')\n",
    "plt.ylabel('y (mm)')\n",
    "plt.axis(l*np.array([-0.5,3.5,-1,1.5]));"
   ]
  },
  {
   "cell_type": "markdown",
   "id": "c564a8af",
   "metadata": {},
   "source": [
    "## Assemble the stiffness matrix\n",
    "\n",
    "Creating the matrix to represent $\\mathbf{K} = \\mathbf{K}_1+...\\mathbf{K}_{11}$ is called __assembling the stiffness matrix__. We loop through each element and add the individual stiffness matrices, the same way we did for the 3-element truss above. First, we define our $\\mathbf{K_{el}}$ function, `Kel(node1,node2)`. The nodes define the initial length and the angle of the beam element. We can multipy the stiffness matrix by $EA$ to get the actual N/m stiffness term. In our case, each beam is the same material and cross section, so we can factor out $EA$."
   ]
  },
  {
   "cell_type": "code",
   "execution_count": 13,
   "id": "b81077e2",
   "metadata": {},
   "outputs": [],
   "source": [
    "def Kel(node1,node2):\n",
    "    '''Kel(node1,node2) returns the diagonal and off-diagonal element stiffness matrices based upon\n",
    "    initial angle of a beam element and its length the full element stiffness is\n",
    "    K_el = np.block([[Ke1,Ke2],[Ke2,Ke1]])\n",
    "    \n",
    "    Out: [Ke1 Ke2]\n",
    "         [Ke2 Ke1]   \n",
    "    arguments:\n",
    "    ----------\n",
    "    node1: is the 1st node number and coordinates from the nodes array\n",
    "    node2: is the 2nd node number and coordinates from the nodes array\n",
    "    outputs:\n",
    "    --------\n",
    "    Ke1 : the diagonal matrix of the element stiffness\n",
    "    Ke2 : the off-diagonal matrix of the element stiffness\n",
    "    '''\n",
    "    a = np.arctan2(node2[2]-node1[2],node2[1]-node1[1])\n",
    "    l = np.sqrt((node2[2]-node1[2])**2+(node2[1]-node1[1])**2)\n",
    "    Ke1 = 1/l*np.array([[np.cos(a)**2,np.cos(a)*np.sin(a)],[np.cos(a)*np.sin(a),np.sin(a)**2]])\n",
    "    Ke2 = 1/l*np.array([[-np.cos(a)**2,-np.cos(a)*np.sin(a)],[-np.cos(a)*np.sin(a),-np.sin(a)**2]])\n",
    "    return Ke1,Ke2"
   ]
  },
  {
   "cell_type": "markdown",
   "id": "cceacde6",
   "metadata": {},
   "source": [
    "Next, we loop through each element (1-11) and add each element stiffness term to the _global_ stiffness matrix, $\\mathbf{K}$. The result is a $14\\times 14$ array that satisfies our $\\sum \\mathbf{F} = \\mathbf{0}$ at all 7 nodes. \n",
    "\n",
    "$\\mathbf{F} = \\mathbf{Ku}$"
   ]
  },
  {
   "cell_type": "code",
   "execution_count": 14,
   "id": "d360938d",
   "metadata": {},
   "outputs": [],
   "source": [
    "K=np.zeros((len(nodes)*2,len(nodes)*2))\n",
    "for e in elems:\n",
    "    ni = nodes[e[1]-1]\n",
    "    nj = nodes[e[2]-1]\n",
    "    \n",
    "    Ke1,Ke2 = Kel(ni,nj)\n",
    "    #--> assemble K <--\n",
    "    i1=int(ni[0])*2-2\n",
    "    i2=int(ni[0])*2\n",
    "    j1=int(nj[0])*2-2\n",
    "    j2=int(nj[0])*2\n",
    "    \n",
    "    K[i1:i2,i1:i2]+=Ke1\n",
    "    K[j1:j2,j1:j2]+=Ke1\n",
    "    K[i1:i2,j1:j2]+=Ke2\n",
    "    K[j1:j2,i1:i2]+=Ke2"
   ]
  },
  {
   "cell_type": "code",
   "execution_count": 15,
   "id": "04d27bb7",
   "metadata": {},
   "outputs": [
    {
     "name": "stdout",
     "output_type": "stream",
     "text": [
      "[[ 4.16666667  1.44337567 -0.83333333 -1.44337567 -3.33333333  0.\n",
      "   0.          0.          0.          0.          0.          0.\n",
      "   0.          0.        ]\n",
      " [ 1.44337567  2.5        -1.44337567 -2.5         0.          0.\n",
      "   0.          0.          0.          0.          0.          0.\n",
      "   0.          0.        ]\n",
      " [-0.83333333 -1.44337567  5.          0.         -0.83333333  1.44337567\n",
      "  -3.33333333  0.          0.          0.          0.          0.\n",
      "   0.          0.        ]\n",
      " [-1.44337567 -2.5         0.          5.          1.44337567 -2.5\n",
      "   0.          0.          0.          0.          0.          0.\n",
      "   0.          0.        ]\n",
      " [-3.33333333  0.         -0.83333333  1.44337567  8.33333333  0.\n",
      "  -0.83333333 -1.44337567 -3.33333333  0.          0.          0.\n",
      "   0.          0.        ]\n",
      " [ 0.          0.          1.44337567 -2.5         0.          5.\n",
      "  -1.44337567 -2.5         0.          0.          0.          0.\n",
      "   0.          0.        ]\n",
      " [ 0.          0.         -3.33333333  0.         -0.83333333 -1.44337567\n",
      "   8.33333333  0.         -0.83333333  1.44337567 -3.33333333  0.\n",
      "   0.          0.        ]\n",
      " [ 0.          0.          0.          0.         -1.44337567 -2.5\n",
      "   0.          5.          1.44337567 -2.5         0.          0.\n",
      "   0.          0.        ]\n",
      " [ 0.          0.          0.          0.         -3.33333333  0.\n",
      "  -0.83333333  1.44337567  8.33333333  0.         -0.83333333 -1.44337567\n",
      "  -3.33333333  0.        ]\n",
      " [ 0.          0.          0.          0.          0.          0.\n",
      "   1.44337567 -2.5         0.          5.         -1.44337567 -2.5\n",
      "   0.          0.        ]\n",
      " [ 0.          0.          0.          0.          0.          0.\n",
      "  -3.33333333  0.         -0.83333333 -1.44337567  5.          0.\n",
      "  -0.83333333  1.44337567]\n",
      " [ 0.          0.          0.          0.          0.          0.\n",
      "   0.          0.         -1.44337567 -2.5         0.          5.\n",
      "   1.44337567 -2.5       ]\n",
      " [ 0.          0.          0.          0.          0.          0.\n",
      "   0.          0.         -3.33333333  0.         -0.83333333  1.44337567\n",
      "   4.16666667 -1.44337567]\n",
      " [ 0.          0.          0.          0.          0.          0.\n",
      "   0.          0.          0.          0.          1.44337567 -2.5\n",
      "  -1.44337567  2.5       ]]\n"
     ]
    }
   ],
   "source": [
    "print(K*1000)"
   ]
  },
  {
   "cell_type": "markdown",
   "id": "57f5edfa",
   "metadata": {},
   "source": [
    "## Save the inputs for the project\n",
    "\n",
    "Here, we save the arrays needed to work on the project as a Linear Algebra problem. We need the `nodes`, `elems`, and `K` arrays. So, we save them in the file `fea_arrays.npz`."
   ]
  },
  {
   "cell_type": "code",
   "execution_count": 16,
   "id": "ca5f8659",
   "metadata": {},
   "outputs": [],
   "source": [
    "np.savez('fea_arrays',nodes=nodes,elems=elems,K=K)"
   ]
  },
  {
   "cell_type": "markdown",
   "id": "aee4ffd7",
   "metadata": {},
   "source": [
    "## Solution for our FEA problem\n",
    "\n",
    "In FEA, you have applied forces, in $\\mathbf{F}$, and displacement in $\\mathbf{u}.$ Typically, you have a mix of known and unknown forces and displacements. In our example, we have 14 degrees of freedom - 3 constraints for our displacements. So, we solve the problem in two steps\n",
    "\n",
    "1. solve for the free nodes `uf` $\\rightarrow \\mathbf{K}[2:13,2:13] \\mathbf{u}[2:13] = \\mathbf{F} [2:13]$\n",
    "\n",
    "2. plug in `u` to solve for `F` at constrained degrees of freedom $\\rightarrow \\mathbf{F}=\\mathbf{K}\\mathbf{u}$"
   ]
  },
  {
   "cell_type": "code",
   "execution_count": 17,
   "id": "8e6ea312",
   "metadata": {},
   "outputs": [
    {
     "name": "stdout",
     "output_type": "stream",
     "text": [
      "[   0.    0.    0.    0.    0. -100.    0.    0.    0.    0.    0.]\n",
      "[ 1.42108547e-14 -1.77635684e-15 -2.84217094e-14  3.55271368e-14\n",
      " -2.25574756e-14 -1.00000000e+02  0.00000000e+00  3.19744231e-14\n",
      "  2.84217094e-14 -7.10542736e-15  0.00000000e+00]\n"
     ]
    }
   ],
   "source": [
    "E=200e3\n",
    "A=0.1\n",
    "Ff=np.zeros(2*len(nodes)-3)\n",
    "Ff[5]=-100\n",
    "print(Ff)\n",
    "# step 1 solve for uf (the joints without constraints)\n",
    "uf = np.linalg.solve(E*A*K[2:13,2:13],Ff)\n",
    "u=np.zeros(2*len(nodes))\n",
    "u[2:13]=uf\n",
    "\n",
    "# step 2 solve for F (the solution should include reactions and applied forces)\n",
    "F=E*A*K@u\n",
    "print(F[2:13])"
   ]
  },
  {
   "cell_type": "code",
   "execution_count": 18,
   "id": "4c6ef838",
   "metadata": {},
   "outputs": [
    {
     "name": "stdout",
     "output_type": "stream",
     "text": [
      "displacements:\n",
      "----------------\n",
      "u_1x:0.00 mm\n",
      "u_1y:0.00 mm\n",
      "u_2x:1.95 mm\n",
      "u_2y:-2.12 mm\n",
      "u_3x:0.43 mm\n",
      "u_3y:-4.00 mm\n",
      "u_4x:1.08 mm\n",
      "u_4y:-5.37 mm\n",
      "u_5x:1.73 mm\n",
      "u_5y:-4.00 mm\n",
      "u_6x:0.22 mm\n",
      "u_6y:-2.12 mm\n",
      "u_7x:2.17 mm\n",
      "u_7y:0.00 mm\n",
      "\n",
      "forces:\n",
      "----------------\n",
      "F_1x:-0.00 N\n",
      "F_1y:50.00 N\n",
      "F_2x:0.00 N\n",
      "F_2y:-0.00 N\n",
      "F_3x:-0.00 N\n",
      "F_3y:0.00 N\n",
      "F_4x:-0.00 N\n",
      "F_4y:-100.00 N\n",
      "F_5x:0.00 N\n",
      "F_5y:0.00 N\n",
      "F_6x:0.00 N\n",
      "F_6y:-0.00 N\n",
      "F_7x:0.00 N\n",
      "F_7y:50.00 N\n"
     ]
    }
   ],
   "source": [
    "xy={0:'x',1:'y'}\n",
    "print('displacements:\\n----------------')\n",
    "for i in range(len(u)):\n",
    "    print('u_{}{}:{:.2f} mm'.format(int(i/2)+1,xy[i%2],u[i]))\n",
    "print('\\nforces:\\n----------------')\n",
    "for i in range(len(F)):\n",
    "    print('F_{}{}:{:.2f} N'.format(int(i/2)+1,xy[i%2],F[i]))"
   ]
  },
  {
   "cell_type": "markdown",
   "id": "47e21a3e",
   "metadata": {},
   "source": [
    "## Postprocess FEA results\n",
    "\n",
    "The last step in FEA (and any applied linear algebra problem), is to\n",
    "post-process the results. I have chosen to show the deflections of each\n",
    "joint and the applied forces at each node. I imported the `interact`\n",
    "widget to animate the deformation of the structure. What you should see\n",
    "is that the sum of external forces $\\sum F_x=0$ and $\\sum F_y=0$. This\n",
    "is what we see, since our the sum of the reaction forces is equal to the\n",
    "applied force.\n",
    "\n",
    "> __Note__: Run this in Jupyter to interact with the scale of\n",
    "> deformation."
   ]
  },
  {
   "cell_type": "code",
   "execution_count": 19,
   "id": "40674509",
   "metadata": {},
   "outputs": [
    {
     "data": {
      "application/vnd.jupyter.widget-view+json": {
       "model_id": "6e980490568949c4bb834ca5aee043ec",
       "version_major": 2,
       "version_minor": 0
      },
      "text/plain": [
       "interactive(children=(IntSlider(value=5, description='s', max=10), Output()), _dom_classes=('widget-interact',…"
      ]
     },
     "metadata": {},
     "output_type": "display_data"
    }
   ],
   "source": [
    "from __future__ import print_function\n",
    "from ipywidgets import interact, interactive, fixed, interact_manual\n",
    "import ipywidgets as widgets\n",
    "\n",
    "def f(s):\n",
    "    plt.plot(r[ix],r[iy],'-',color=(0,0,0,1))\n",
    "    plt.plot(r[ix]+u[ix]*s,r[iy]+u[iy]*s,'-',color=(1,0,0,1))\n",
    "    #plt.quiver(r[ix],r[iy],u[ix],u[iy],color=(0,0,1,1),label='displacements')\n",
    "    plt.quiver(r[ix],r[iy],F[ix],F[iy],color=(1,0,0,1),label='applied forces')\n",
    "    plt.quiver(r[ix],r[iy],u[ix],u[iy],color=(0,0,1,1),label='displacements')\n",
    "    plt.axis(l*np.array([-0.5,3.5,-0.5,2]))\n",
    "    plt.xlabel('x (mm)')\n",
    "    plt.ylabel('y (mm)')\n",
    "    plt.title('Deformation scale = {:.1f}x'.format(s))\n",
    "    plt.legend(bbox_to_anchor=(1,0.5))\n",
    "interact(f,s=(0,10,1));"
   ]
  }
 ],
 "metadata": {
  "jupytext": {
   "formats": "notebooks//ipynb,md:myst",
   "text_representation": {
    "extension": ".md",
    "format_name": "myst",
    "format_version": 0.13,
    "jupytext_version": "1.10.3"
   }
  },
  "kernelspec": {
   "display_name": "Python 3",
   "language": "python",
   "name": "python3"
  },
  "language_info": {
   "codemirror_mode": {
    "name": "ipython",
    "version": 3
   },
   "file_extension": ".py",
   "mimetype": "text/x-python",
   "name": "python",
   "nbconvert_exporter": "python",
   "pygments_lexer": "ipython3",
   "version": "3.9.12"
  },
  "source_map": [
   13,
   46,
   65,
   74,
   79,
   82,
   86,
   98,
   106,
   155,
   190,
   207,
   216,
   220,
   224,
   242,
   279,
   285,
   294,
   302,
   310,
   333,
   339,
   361,
   367,
   386,
   388,
   394,
   396,
   406,
   422,
   430,
   445
  ],
  "widgets": {
   "application/vnd.jupyter.widget-state+json": {
    "state": {
     "2984df5528b441ebaa0cf50ac7fe3e19": {
      "model_module": "@jupyter-widgets/controls",
      "model_module_version": "1.5.0",
      "model_name": "IntSliderModel",
      "state": {
       "_dom_classes": [],
       "_model_module": "@jupyter-widgets/controls",
       "_model_module_version": "1.5.0",
       "_model_name": "IntSliderModel",
       "_view_count": null,
       "_view_module": "@jupyter-widgets/controls",
       "_view_module_version": "1.5.0",
       "_view_name": "IntSliderView",
       "continuous_update": true,
       "description": "s",
       "description_tooltip": null,
       "disabled": false,
       "layout": "IPY_MODEL_6cabc9f274084ec2a60329e4a411714d",
       "max": 10,
       "min": 0,
       "orientation": "horizontal",
       "readout": true,
       "readout_format": "d",
       "step": 1,
       "style": "IPY_MODEL_3ef215319dbd461dbf9eff2878f258fd",
       "value": 5
      }
     },
     "3ef215319dbd461dbf9eff2878f258fd": {
      "model_module": "@jupyter-widgets/controls",
      "model_module_version": "1.5.0",
      "model_name": "SliderStyleModel",
      "state": {
       "_model_module": "@jupyter-widgets/controls",
       "_model_module_version": "1.5.0",
       "_model_name": "SliderStyleModel",
       "_view_count": null,
       "_view_module": "@jupyter-widgets/base",
       "_view_module_version": "1.2.0",
       "_view_name": "StyleView",
       "description_width": "",
       "handle_color": null
      }
     },
     "6cabc9f274084ec2a60329e4a411714d": {
      "model_module": "@jupyter-widgets/base",
      "model_module_version": "1.2.0",
      "model_name": "LayoutModel",
      "state": {
       "_model_module": "@jupyter-widgets/base",
       "_model_module_version": "1.2.0",
       "_model_name": "LayoutModel",
       "_view_count": null,
       "_view_module": "@jupyter-widgets/base",
       "_view_module_version": "1.2.0",
       "_view_name": "LayoutView",
       "align_content": null,
       "align_items": null,
       "align_self": null,
       "border": null,
       "bottom": null,
       "display": null,
       "flex": null,
       "flex_flow": null,
       "grid_area": null,
       "grid_auto_columns": null,
       "grid_auto_flow": null,
       "grid_auto_rows": null,
       "grid_column": null,
       "grid_gap": null,
       "grid_row": null,
       "grid_template_areas": null,
       "grid_template_columns": null,
       "grid_template_rows": null,
       "height": null,
       "justify_content": null,
       "justify_items": null,
       "left": null,
       "margin": null,
       "max_height": null,
       "max_width": null,
       "min_height": null,
       "min_width": null,
       "object_fit": null,
       "object_position": null,
       "order": null,
       "overflow": null,
       "overflow_x": null,
       "overflow_y": null,
       "padding": null,
       "right": null,
       "top": null,
       "visibility": null,
       "width": null
      }
     },
     "6e980490568949c4bb834ca5aee043ec": {
      "model_module": "@jupyter-widgets/controls",
      "model_module_version": "1.5.0",
      "model_name": "VBoxModel",
      "state": {
       "_dom_classes": [
        "widget-interact"
       ],
       "_model_module": "@jupyter-widgets/controls",
       "_model_module_version": "1.5.0",
       "_model_name": "VBoxModel",
       "_view_count": null,
       "_view_module": "@jupyter-widgets/controls",
       "_view_module_version": "1.5.0",
       "_view_name": "VBoxView",
       "box_style": "",
       "children": [
        "IPY_MODEL_2984df5528b441ebaa0cf50ac7fe3e19",
        "IPY_MODEL_cd1f1fb5b8144150bf2b32ab070f6759"
       ],
       "layout": "IPY_MODEL_b80600de7939433bb960a9a924667019"
      }
     },
     "949f3c1705d94800b4ea294b86282821": {
      "model_module": "@jupyter-widgets/base",
      "model_module_version": "1.2.0",
      "model_name": "LayoutModel",
      "state": {
       "_model_module": "@jupyter-widgets/base",
       "_model_module_version": "1.2.0",
       "_model_name": "LayoutModel",
       "_view_count": null,
       "_view_module": "@jupyter-widgets/base",
       "_view_module_version": "1.2.0",
       "_view_name": "LayoutView",
       "align_content": null,
       "align_items": null,
       "align_self": null,
       "border": null,
       "bottom": null,
       "display": null,
       "flex": null,
       "flex_flow": null,
       "grid_area": null,
       "grid_auto_columns": null,
       "grid_auto_flow": null,
       "grid_auto_rows": null,
       "grid_column": null,
       "grid_gap": null,
       "grid_row": null,
       "grid_template_areas": null,
       "grid_template_columns": null,
       "grid_template_rows": null,
       "height": null,
       "justify_content": null,
       "justify_items": null,
       "left": null,
       "margin": null,
       "max_height": null,
       "max_width": null,
       "min_height": null,
       "min_width": null,
       "object_fit": null,
       "object_position": null,
       "order": null,
       "overflow": null,
       "overflow_x": null,
       "overflow_y": null,
       "padding": null,
       "right": null,
       "top": null,
       "visibility": null,
       "width": null
      }
     },
     "b80600de7939433bb960a9a924667019": {
      "model_module": "@jupyter-widgets/base",
      "model_module_version": "1.2.0",
      "model_name": "LayoutModel",
      "state": {
       "_model_module": "@jupyter-widgets/base",
       "_model_module_version": "1.2.0",
       "_model_name": "LayoutModel",
       "_view_count": null,
       "_view_module": "@jupyter-widgets/base",
       "_view_module_version": "1.2.0",
       "_view_name": "LayoutView",
       "align_content": null,
       "align_items": null,
       "align_self": null,
       "border": null,
       "bottom": null,
       "display": null,
       "flex": null,
       "flex_flow": null,
       "grid_area": null,
       "grid_auto_columns": null,
       "grid_auto_flow": null,
       "grid_auto_rows": null,
       "grid_column": null,
       "grid_gap": null,
       "grid_row": null,
       "grid_template_areas": null,
       "grid_template_columns": null,
       "grid_template_rows": null,
       "height": null,
       "justify_content": null,
       "justify_items": null,
       "left": null,
       "margin": null,
       "max_height": null,
       "max_width": null,
       "min_height": null,
       "min_width": null,
       "object_fit": null,
       "object_position": null,
       "order": null,
       "overflow": null,
       "overflow_x": null,
       "overflow_y": null,
       "padding": null,
       "right": null,
       "top": null,
       "visibility": null,
       "width": null
      }
     },
     "cd1f1fb5b8144150bf2b32ab070f6759": {
      "model_module": "@jupyter-widgets/output",
      "model_module_version": "1.0.0",
      "model_name": "OutputModel",
      "state": {
       "_dom_classes": [],
       "_model_module": "@jupyter-widgets/output",
       "_model_module_version": "1.0.0",
       "_model_name": "OutputModel",
       "_view_count": null,
       "_view_module": "@jupyter-widgets/output",
       "_view_module_version": "1.0.0",
       "_view_name": "OutputView",
       "layout": "IPY_MODEL_949f3c1705d94800b4ea294b86282821",
       "msg_id": "",
       "outputs": [
        {
         "data": {
          "image/png": "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\n",
          "text/plain": "<Figure size 432x288 with 1 Axes>"
         },
         "metadata": {
          "needs_background": "light"
         },
         "output_type": "display_data"
        }
       ]
      }
     }
    },
    "version_major": 2,
    "version_minor": 0
   }
  }
 },
 "nbformat": 4,
 "nbformat_minor": 5
}